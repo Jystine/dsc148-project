{
 "cells": [
  {
   "cell_type": "markdown",
   "id": "bd9594a8",
   "metadata": {},
   "source": [
    "### Importing Packages"
   ]
  },
  {
   "cell_type": "code",
   "execution_count": 1,
   "id": "bcca7066",
   "metadata": {},
   "outputs": [],
   "source": [
    "import pandas as pd\n",
    "import numpy as np\n",
    "import matplotlib.pyplot as plt\n",
    "import seaborn as sns\n",
    "import scipy.stats\n",
    "from sklearn.neighbors import KNeighborsClassifier\n",
    "from sklearn.model_selection import train_test_split\n",
    "from sklearn.compose import ColumnTransformer\n",
    "from sklearn.pipeline import Pipeline\n",
    "from sklearn.preprocessing import StandardScaler, OneHotEncoder, FunctionTransformer\n",
    "from sklearn.metrics import f1_score, precision_recall_fscore_support, recall_score, accuracy_score"
   ]
  },
  {
   "cell_type": "markdown",
   "id": "efd1fdd4",
   "metadata": {},
   "source": [
    "### Loading Data"
   ]
  },
  {
   "cell_type": "code",
   "execution_count": 2,
   "id": "1be8c3cc",
   "metadata": {},
   "outputs": [],
   "source": [
    "from ucimlrepo import fetch_ucirepo \n",
    "  \n",
    "# fetch dataset \n",
    "adult = fetch_ucirepo(id=2) \n",
    "  \n",
    "# data (as pandas dataframes) \n",
    "X = adult.data.features \n",
    "y = adult.data.targets \n",
    "data = pd.concat([X, y], axis = 1)"
   ]
  },
  {
   "cell_type": "code",
   "execution_count": 3,
   "id": "cb7c8d8a",
   "metadata": {},
   "outputs": [],
   "source": [
    "adult.variables"
   ]
  },
  {
   "cell_type": "code",
   "execution_count": 4,
   "id": "cc702d03",
   "metadata": {},
   "outputs": [],
   "source": [
    "data.shape"
   ]
  },
  {
   "cell_type": "markdown",
   "id": "72acf3eb",
   "metadata": {},
   "source": [
    "### EDA"
   ]
  },
  {
   "cell_type": "code",
   "execution_count": 5,
   "id": "b737032a",
   "metadata": {},
   "outputs": [],
   "source": [
    "data.info()"
   ]
  },
  {
   "cell_type": "code",
   "execution_count": 6,
   "id": "0bfcde90",
   "metadata": {},
   "outputs": [],
   "source": [
    "48842  - 48568     "
   ]
  },
  {
   "cell_type": "markdown",
   "id": "06499819",
   "metadata": {},
   "source": [
    "#### Exploring income encoding"
   ]
  },
  {
   "cell_type": "code",
   "execution_count": 7,
   "id": "b91f6de5",
   "metadata": {
    "scrolled": true
   },
   "outputs": [],
   "source": [
    "# Class imbalance, preprocessing for income column needed\n",
    "# Consider using f1 score instead of accuracy \n",
    "y.assign(count = y[\"income\"]).groupby(\"income\").count()"
   ]
  },
  {
   "cell_type": "markdown",
   "id": "257eff6d",
   "metadata": {},
   "source": [
    "#### Exploring missing and unknown values"
   ]
  },
  {
   "cell_type": "code",
   "execution_count": 8,
   "id": "dabf56b8",
   "metadata": {},
   "outputs": [],
   "source": [
    "# All people with missing workclass also has missing occupation\n",
    "data[data[\"workclass\"].isna()][\"occupation\"].unique()"
   ]
  },
  {
   "cell_type": "code",
   "execution_count": 9,
   "id": "8d4da481",
   "metadata": {},
   "outputs": [],
   "source": [
    "# People with missing occupation either had unknown occupation or never-worked\n",
    "data[data[\"occupation\"].isna()][\"workclass\"].unique()"
   ]
  },
  {
   "cell_type": "code",
   "execution_count": 10,
   "id": "e95b2194",
   "metadata": {},
   "outputs": [],
   "source": [
    "# What is the ? value\n",
    "data[\"workclass\"].unique()"
   ]
  },
  {
   "cell_type": "code",
   "execution_count": 11,
   "id": "7348ec79",
   "metadata": {},
   "outputs": [],
   "source": [
    "# People with unknown workclass, occupation, and native-country is marked with ?\n",
    "data[data[\"workclass\"] == \"?\"]"
   ]
  },
  {
   "cell_type": "code",
   "execution_count": 12,
   "id": "60c1ab21",
   "metadata": {},
   "outputs": [],
   "source": [
    "# Which columns have ? values\n",
    "for col in data.columns:\n",
    "    if \"?\" in np.array(data[col]):\n",
    "        print(col)"
   ]
  },
  {
   "cell_type": "markdown",
   "id": "2436b125",
   "metadata": {},
   "source": [
    "#### Exploring how many rows impacted if drop missing / ? values"
   ]
  },
  {
   "cell_type": "code",
   "execution_count": 13,
   "id": "fc26501c",
   "metadata": {},
   "outputs": [],
   "source": [
    "data[(data[\"workclass\"] == \"?\") | (data[\"workclass\"].isna())]"
   ]
  },
  {
   "cell_type": "code",
   "execution_count": 14,
   "id": "27dedbc3",
   "metadata": {},
   "outputs": [],
   "source": [
    "data[(data[\"occupation\"] == \"?\") | (data[\"occupation\"].isna())]"
   ]
  },
  {
   "cell_type": "code",
   "execution_count": 15,
   "id": "92dae6f6",
   "metadata": {},
   "outputs": [],
   "source": [
    "data[(data[\"native-country\"] == \"?\") | (data[\"native-country\"].isna())]"
   ]
  },
  {
   "cell_type": "code",
   "execution_count": 16,
   "id": "aa48bade",
   "metadata": {},
   "outputs": [],
   "source": [
    "data[data[\"workclass\"] == \"?\"][\"occupation\"].unique()"
   ]
  },
  {
   "cell_type": "code",
   "execution_count": 17,
   "id": "bfa7626c",
   "metadata": {},
   "outputs": [],
   "source": [
    "data[data[\"workclass\"] == \"?\"][\"native-country\"].unique()"
   ]
  },
  {
   "cell_type": "code",
   "execution_count": 18,
   "id": "715278b7",
   "metadata": {},
   "outputs": [],
   "source": [
    "data[data[\"occupation\"] == \"?\"][\"workclass\"].unique()"
   ]
  },
  {
   "cell_type": "code",
   "execution_count": 19,
   "id": "a1ce3ed0",
   "metadata": {},
   "outputs": [],
   "source": [
    "data[data[\"occupation\"] == \"?\"][\"native-country\"].unique()"
   ]
  },
  {
   "cell_type": "code",
   "execution_count": 20,
   "id": "61f5d482",
   "metadata": {},
   "outputs": [],
   "source": [
    "data[data[\"native-country\"] == \"?\"][\"workclass\"].unique()"
   ]
  },
  {
   "cell_type": "code",
   "execution_count": 21,
   "id": "4a32d350",
   "metadata": {},
   "outputs": [],
   "source": [
    "data[data[\"native-country\"] == \"?\"][\"occupation\"].unique()"
   ]
  },
  {
   "cell_type": "code",
   "execution_count": 22,
   "id": "d0394204",
   "metadata": {},
   "outputs": [],
   "source": [
    "# Dropping doesn't impact much\n",
    "no_missing = data[(data[\"workclass\"] != \"?\")]\n",
    "no_missing = no_missing[(no_missing[\"occupation\"]) != \"?\"]\n",
    "no_missing = no_missing[no_missing[\"native-country\"] != \"?\"]\n",
    "no_missing = no_missing.dropna()\n",
    "\n",
    "no_missing"
   ]
  },
  {
   "cell_type": "markdown",
   "id": "3976cb24",
   "metadata": {},
   "source": [
    "#### Exploring possibly correlated features"
   ]
  },
  {
   "cell_type": "code",
   "execution_count": 23,
   "id": "3ba03818",
   "metadata": {},
   "outputs": [],
   "source": [
    "# education-num can be used to encode education\n",
    "data.groupby([\"education\", \"education-num\"])[[\"age\"]].count()"
   ]
  },
  {
   "cell_type": "markdown",
   "id": "63f63eb6",
   "metadata": {},
   "source": [
    "#### Exploring how many of each categorical variable there are and distribution"
   ]
  },
  {
   "cell_type": "code",
   "execution_count": 24,
   "id": "4c74e919",
   "metadata": {},
   "outputs": [],
   "source": [
    "# Number of classes in each categorical cariable\n",
    "categorical = data.drop(columns = [\"age\", \"fnlwgt\", \"education-num\", \"capital-gain\", \"capital-loss\", \n",
    "                                   \"hours-per-week\", \"income\"])\n",
    "categorical_count = {}\n",
    "for col in categorical.columns:\n",
    "    categorical_count[col] = len(categorical[col].unique())\n",
    "    \n",
    "categorical_count"
   ]
  },
  {
   "cell_type": "code",
   "execution_count": 25,
   "id": "ed325a11",
   "metadata": {},
   "outputs": [],
   "source": [
    "# Function to get count of classes in each feature\n",
    "def get_distr(col):\n",
    "    return no_missing.groupby(col)[[\"age\"]].count().sort_values(\"age\")"
   ]
  },
  {
   "cell_type": "code",
   "execution_count": 26,
   "id": "1efd44df",
   "metadata": {
    "scrolled": true
   },
   "outputs": [],
   "source": [
    "get_distr(\"workclass\")"
   ]
  },
  {
   "cell_type": "code",
   "execution_count": 35,
   "id": "77236cbb",
   "metadata": {
    "scrolled": false
   },
   "outputs": [],
   "source": [
    "get_distr(\"education\")"
   ]
  },
  {
   "cell_type": "code",
   "execution_count": 28,
   "id": "e2acbfe0",
   "metadata": {},
   "outputs": [],
   "source": [
    "get_distr(\"marital-status\")"
   ]
  },
  {
   "cell_type": "code",
   "execution_count": 29,
   "id": "910f4c17",
   "metadata": {
    "scrolled": false
   },
   "outputs": [],
   "source": [
    "get_distr(\"occupation\")"
   ]
  },
  {
   "cell_type": "code",
   "execution_count": 30,
   "id": "9c443586",
   "metadata": {},
   "outputs": [],
   "source": [
    "get_distr(\"relationship\")"
   ]
  },
  {
   "cell_type": "code",
   "execution_count": 31,
   "id": "a4dc8811",
   "metadata": {},
   "outputs": [],
   "source": [
    "get_distr(\"race\")"
   ]
  },
  {
   "cell_type": "code",
   "execution_count": 32,
   "id": "8440a7a6",
   "metadata": {},
   "outputs": [],
   "source": [
    "get_distr(\"sex\")"
   ]
  },
  {
   "cell_type": "code",
   "execution_count": 33,
   "id": "cf274aa0",
   "metadata": {},
   "outputs": [],
   "source": [
    "get_distr(\"native-country\")"
   ]
  },
  {
   "cell_type": "code",
   "execution_count": 34,
   "id": "bc2067e2",
   "metadata": {},
   "outputs": [],
   "source": [
    "def plotting(data, col, N):\n",
    "    idx = np.arange(N)\n",
    "    width = 0.3\n",
    "    over = data[data[\"income\"] == 1]\n",
    "    under = data[data[\"income\"] == 0]\n",
    "    over_grouped = over.groupby(col)[\"age\"].count().reset_index().sort_values(col)\n",
    "    under_grouped = under.groupby(col)[\"age\"].count().reset_index().sort_values(col)\n",
    "    values = under_grouped[col]\n",
    "    plt.bar(idx, under_grouped[\"age\"], width, label = \"Under $50k\")\n",
    "    plt.bar(idx + width, over_grouped[\"age\"], width, label = \"Over $50k\")\n",
    "    plt.xticks(idx + width / 2, values)\n",
    "    plt.xlabel(col)\n",
    "    plt.ylabel(\"count\")\n",
    "    plt.legend()\n",
    "    plt.show()\n",
    "    \n",
    "plotting(preproc_data, \"income\", 1)"
   ]
  },
  {
   "cell_type": "markdown",
   "id": "3c3d04b0",
   "metadata": {},
   "source": [
    "#### Exploring capital gain and capital loss"
   ]
  },
  {
   "cell_type": "code",
   "execution_count": null,
   "id": "90e1eaa6",
   "metadata": {},
   "outputs": [],
   "source": [
    "no_missing[\"capital-gain\"].describe()"
   ]
  },
  {
   "cell_type": "code",
   "execution_count": null,
   "id": "e3f9e72d",
   "metadata": {},
   "outputs": [],
   "source": [
    "no_missing[\"capital-loss\"].describe()"
   ]
  },
  {
   "cell_type": "markdown",
   "id": "55d6b4f9",
   "metadata": {},
   "source": [
    "### Preprocessing"
   ]
  },
  {
   "cell_type": "markdown",
   "id": "1d516c46",
   "metadata": {},
   "source": [
    "1. Replace nan with ? to represent unknown category or drop all missing and ? values\n",
    "2. Preprocess income to be a binary value\n",
    "3. Drop education column since education-num encodes that"
   ]
  },
  {
   "cell_type": "code",
   "execution_count": null,
   "id": "54a5765d",
   "metadata": {},
   "outputs": [],
   "source": [
    "# Encodes if you made over 50k as 1 and under 50k as 0\n",
    "preproc_data = no_missing.assign(income = data[\"income\"].str.split(\".\").str[0].apply(lambda x: 1 if x[0] == \">\" else 0))\n",
    "# Drop education column\n",
    "preproc_data = preproc_data.drop(columns = [\"education\", \"fnlwgt\"])"
   ]
  },
  {
   "cell_type": "code",
   "execution_count": null,
   "id": "c6dd55aa",
   "metadata": {},
   "outputs": [],
   "source": [
    "preproc_data.groupby(\"income\").count()"
   ]
  },
  {
   "cell_type": "markdown",
   "id": "f7fc18d3",
   "metadata": {},
   "source": [
    "### Class Imbalance"
   ]
  },
  {
   "cell_type": "code",
   "execution_count": null,
   "id": "06c24bd8",
   "metadata": {},
   "outputs": [],
   "source": [
    "sns.countplot(x = preproc_data[\"income\"])\n",
    "plt.title(\"Income Distribution\")\n",
    "plt.savefig('income_distr.png')"
   ]
  },
  {
   "cell_type": "markdown",
   "id": "5676bd02",
   "metadata": {},
   "source": [
    "### Pair Plot"
   ]
  },
  {
   "cell_type": "code",
   "execution_count": null,
   "id": "e18dc4db",
   "metadata": {},
   "outputs": [],
   "source": [
    "numeric = preproc_data[[\"age\", \"education-num\", \"capital-gain\", \"capital-loss\", \"hours-per-week\", \"income\"]]\n",
    "\n",
    "sns.pairplot(numeric, hue = \"income\")\n",
    "plt.savefig('features.png')"
   ]
  },
  {
   "cell_type": "markdown",
   "id": "c951f864",
   "metadata": {},
   "source": [
    "### Train Test Validation Split"
   ]
  },
  {
   "cell_type": "code",
   "execution_count": null,
   "id": "9ec0646d",
   "metadata": {},
   "outputs": [],
   "source": [
    "X = preproc_data.drop(columns = \"income\")\n",
    "y = preproc_data[\"income\"]"
   ]
  },
  {
   "cell_type": "code",
   "execution_count": null,
   "id": "54d4a702",
   "metadata": {},
   "outputs": [],
   "source": [
    "train = 0.6\n",
    "val = 0.2\n",
    "test = 0.2\n",
    "new_val = val / (1 - test)\n",
    "X_train, X_test, y_train, y_test = train_test_split(X, y, test_size = test, random_state = 42)\n",
    "X_train, X_val, y_train, y_val = train_test_split(X_train, y_train, test_size = new_val, random_state = 42)"
   ]
  },
  {
   "cell_type": "markdown",
   "id": "1296a45f",
   "metadata": {},
   "source": [
    "### Baselin Model - KNN"
   ]
  },
  {
   "cell_type": "code",
   "execution_count": null,
   "id": "0341620b",
   "metadata": {},
   "outputs": [],
   "source": [
    "preproc = ColumnTransformer(\n",
    "    transformers = [\n",
    "        (\"categorical\", OneHotEncoder(handle_unknown='ignore', sparse_output = False), [\"race\", \"sex\", \"workclass\"]),\n",
    "        (\"numerical\", \"passthrough\", [\"age\", \"hours-per-week\", \"education-num\"])\n",
    "    ],\n",
    "    remainder = \"drop\"\n",
    ")"
   ]
  },
  {
   "cell_type": "code",
   "execution_count": null,
   "id": "d4cda06d",
   "metadata": {},
   "outputs": [],
   "source": [
    "pl = Pipeline([\n",
    "    (\"preproc\", preproc),\n",
    "    (\"model\", KNeighborsClassifier())\n",
    "])\n",
    "\n",
    "pl.fit(X_train, y_train)"
   ]
  },
  {
   "cell_type": "code",
   "execution_count": null,
   "id": "a8a4f7cf",
   "metadata": {},
   "outputs": [],
   "source": [
    "recall_score(y_val, pl.predict(X_val))"
   ]
  },
  {
   "cell_type": "code",
   "execution_count": null,
   "id": "cfcdc37d",
   "metadata": {},
   "outputs": [],
   "source": [
    "f1_score(y_val, pl.predict(X_val))"
   ]
  },
  {
   "cell_type": "code",
   "execution_count": null,
   "id": "e3426b1b",
   "metadata": {},
   "outputs": [],
   "source": [
    "accuracy_score(pl.predict(X_test), y_test)"
   ]
  },
  {
   "cell_type": "code",
   "execution_count": null,
   "id": "8cdc3e12",
   "metadata": {},
   "outputs": [],
   "source": []
  }
 ],
 "metadata": {
  "kernelspec": {
   "display_name": "Python 3 (ipykernel)",
   "language": "python",
   "name": "python3"
  },
  "language_info": {
   "codemirror_mode": {
    "name": "ipython",
    "version": 3
   },
   "file_extension": ".py",
   "mimetype": "text/x-python",
   "name": "python",
   "nbconvert_exporter": "python",
   "pygments_lexer": "ipython3",
   "version": "3.10.9"
  }
 },
 "nbformat": 4,
 "nbformat_minor": 5
}
