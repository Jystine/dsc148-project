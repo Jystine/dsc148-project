{
 "cells": [
  {
   "cell_type": "markdown",
   "id": "7e9723e4",
   "metadata": {},
   "source": [
    "### Importing Packages"
   ]
  },
  {
   "cell_type": "code",
   "execution_count": null,
   "id": "7a14640b",
   "metadata": {},
   "outputs": [],
   "source": [
    "import pandas as pd\n",
    "import numpy as np\n",
    "import matplotlib.pyplot as plt\n",
    "import seaborn as sns\n",
    "import scipy.stats"
   ]
  },
  {
   "cell_type": "markdown",
   "id": "f8fc4956",
   "metadata": {},
   "source": [
    "### Loading Data"
   ]
  },
  {
   "cell_type": "code",
   "execution_count": null,
   "id": "84487142",
   "metadata": {},
   "outputs": [],
   "source": [
    "from ucimlrepo import fetch_ucirepo \n",
    "  \n",
    "# fetch dataset \n",
    "adult = fetch_ucirepo(id=2) \n",
    "  \n",
    "# data (as pandas dataframes) \n",
    "X = adult.data.features \n",
    "y = adult.data.targets \n",
    "data = pd.concat([X, y], axis = 1)"
   ]
  },
  {
   "cell_type": "code",
   "execution_count": null,
   "id": "5ec0e907",
   "metadata": {
    "scrolled": false
   },
   "outputs": [],
   "source": [
    "adult.variables"
   ]
  },
  {
   "cell_type": "markdown",
   "id": "c80c676f",
   "metadata": {},
   "source": [
    "### EDA"
   ]
  },
  {
   "cell_type": "code",
   "execution_count": null,
   "id": "cf372182",
   "metadata": {},
   "outputs": [],
   "source": [
    "data.info()"
   ]
  },
  {
   "cell_type": "markdown",
   "id": "f3bc5e49",
   "metadata": {},
   "source": [
    "#### Exploring income encoding"
   ]
  },
  {
   "cell_type": "code",
   "execution_count": null,
   "id": "475e331b",
   "metadata": {
    "scrolled": true
   },
   "outputs": [],
   "source": [
    "# Class imbalance, preprocessing for income column needed\n",
    "# Consider using f1 score instead of accuracy \n",
    "y.assign(count = y[\"income\"]).groupby(\"income\").count()"
   ]
  },
  {
   "cell_type": "markdown",
   "id": "3846a4dd",
   "metadata": {},
   "source": [
    "#### Exploring missing and unknown values"
   ]
  },
  {
   "cell_type": "code",
   "execution_count": null,
   "id": "14c4ed77",
   "metadata": {},
   "outputs": [],
   "source": [
    "# All people with missing workclass also has missing occupation\n",
    "data[data[\"workclass\"].isna()][\"occupation\"].unique()"
   ]
  },
  {
   "cell_type": "code",
   "execution_count": null,
   "id": "7cce3e0a",
   "metadata": {},
   "outputs": [],
   "source": [
    "# People with missing occupation either had unknown occupation or never-worked\n",
    "data[data[\"occupation\"].isna()][\"workclass\"].unique()"
   ]
  },
  {
   "cell_type": "code",
   "execution_count": null,
   "id": "b367b1ee",
   "metadata": {},
   "outputs": [],
   "source": [
    "# What is the ? value\n",
    "data[\"workclass\"].unique()"
   ]
  },
  {
   "cell_type": "code",
   "execution_count": null,
   "id": "607d4842",
   "metadata": {},
   "outputs": [],
   "source": [
    "# People with unknown workclass, occupation, and native-country is marked with ?\n",
    "data[data[\"workclass\"] == \"?\"]"
   ]
  },
  {
   "cell_type": "code",
   "execution_count": null,
   "id": "c2393367",
   "metadata": {},
   "outputs": [],
   "source": [
    "# Which columns have ? values\n",
    "for col in data.columns:\n",
    "    if \"?\" in np.array(data[col]):\n",
    "        print(col)"
   ]
  },
  {
   "cell_type": "markdown",
   "id": "cb80f89a",
   "metadata": {},
   "source": [
    "#### Exploring how many rows impacted if drop missing / ? values"
   ]
  },
  {
   "cell_type": "code",
   "execution_count": null,
   "id": "114d8880",
   "metadata": {},
   "outputs": [],
   "source": [
    "data[data[\"workclass\"] == \"?\"][\"occupation\"].unique()"
   ]
  },
  {
   "cell_type": "code",
   "execution_count": null,
   "id": "5135ef5e",
   "metadata": {},
   "outputs": [],
   "source": [
    "data[data[\"workclass\"] == \"?\"][\"native-country\"].unique()"
   ]
  },
  {
   "cell_type": "code",
   "execution_count": null,
   "id": "d1e56f41",
   "metadata": {},
   "outputs": [],
   "source": [
    "data[data[\"occupation\"] == \"?\"][\"workclass\"].unique()"
   ]
  },
  {
   "cell_type": "code",
   "execution_count": null,
   "id": "9a4ea0c9",
   "metadata": {},
   "outputs": [],
   "source": [
    "data[data[\"occupation\"] == \"?\"][\"native-country\"].unique()"
   ]
  },
  {
   "cell_type": "code",
   "execution_count": null,
   "id": "dc34e89f",
   "metadata": {},
   "outputs": [],
   "source": [
    "data[data[\"native-country\"] == \"?\"][\"workclass\"].unique()"
   ]
  },
  {
   "cell_type": "code",
   "execution_count": null,
   "id": "efcbfadd",
   "metadata": {},
   "outputs": [],
   "source": [
    "data[data[\"native-country\"] == \"?\"][\"occupation\"].unique()"
   ]
  },
  {
   "cell_type": "code",
   "execution_count": null,
   "id": "c63863fb",
   "metadata": {},
   "outputs": [],
   "source": [
    "# Dropping doesn't impact much\n",
    "data[(data[\"workclass\"] != \"?\") | (data[\"occupation\"] != \"?\") | (data[\"native-country\"] != \"?\")].dropna()"
   ]
  },
  {
   "cell_type": "markdown",
   "id": "46241d39",
   "metadata": {},
   "source": [
    "#### Exploring possibly correlated features"
   ]
  },
  {
   "cell_type": "code",
   "execution_count": null,
   "id": "9838a1ec",
   "metadata": {
    "scrolled": false
   },
   "outputs": [],
   "source": [
    "# education-num can be used to encode education\n",
    "data.groupby([\"education\", \"education-num\"])[[\"age\"]].count()"
   ]
  },
  {
   "cell_type": "markdown",
   "id": "6990b328",
   "metadata": {},
   "source": [
    "#### Exploring how many of each categorical variable there are and distribution"
   ]
  },
  {
   "cell_type": "code",
   "execution_count": null,
   "id": "c1e5c394",
   "metadata": {},
   "outputs": [],
   "source": [
    "# Number of classes in each categorical cariable\n",
    "categorical = data.drop(columns = [\"age\", \"fnlwgt\", \"education-num\", \"capital-gain\", \"capital-loss\", \n",
    "                                   \"hours-per-week\", \"income\"])\n",
    "categorical_count = {}\n",
    "for col in categorical.columns:\n",
    "    categorical_count[col] = len(categorical[col].unique())\n",
    "    \n",
    "categorical_count"
   ]
  },
  {
   "cell_type": "code",
   "execution_count": null,
   "id": "e33ec75c",
   "metadata": {
    "scrolled": false
   },
   "outputs": [],
   "source": [
    "# Function to get count of classes in each feature\n",
    "def get_distr(col):\n",
    "    return data.groupby(col)[[\"age\"]].count().sort_values(\"age\")"
   ]
  },
  {
   "cell_type": "code",
   "execution_count": null,
   "id": "676a8d30",
   "metadata": {
    "scrolled": true
   },
   "outputs": [],
   "source": [
    "get_distr(\"workclass\")"
   ]
  },
  {
   "cell_type": "code",
   "execution_count": null,
   "id": "6750124f",
   "metadata": {
    "scrolled": true
   },
   "outputs": [],
   "source": [
    "get_distr(\"education\")"
   ]
  },
  {
   "cell_type": "code",
   "execution_count": null,
   "id": "d2832618",
   "metadata": {},
   "outputs": [],
   "source": [
    "get_distr(\"marital-status\")"
   ]
  },
  {
   "cell_type": "code",
   "execution_count": null,
   "id": "95e909e6",
   "metadata": {
    "scrolled": true
   },
   "outputs": [],
   "source": [
    "get_distr(\"occupation\")"
   ]
  },
  {
   "cell_type": "code",
   "execution_count": null,
   "id": "1e342c92",
   "metadata": {},
   "outputs": [],
   "source": [
    "get_distr(\"relationship\")"
   ]
  },
  {
   "cell_type": "code",
   "execution_count": null,
   "id": "286a4573",
   "metadata": {},
   "outputs": [],
   "source": [
    "get_distr(\"race\")"
   ]
  },
  {
   "cell_type": "code",
   "execution_count": null,
   "id": "d30fa380",
   "metadata": {},
   "outputs": [],
   "source": [
    "get_distr(\"sex\")"
   ]
  },
  {
   "cell_type": "code",
   "execution_count": null,
   "id": "fb35b049",
   "metadata": {
    "scrolled": true
   },
   "outputs": [],
   "source": [
    "get_distr(\"native-country\")"
   ]
  },
  {
   "cell_type": "markdown",
   "id": "19f842ca",
   "metadata": {},
   "source": [
    "#### Exploring capital gain and capital loss"
   ]
  },
  {
   "cell_type": "code",
   "execution_count": null,
   "id": "eca31ee0",
   "metadata": {},
   "outputs": [],
   "source": [
    "data[\"capital-gain\"].describe()"
   ]
  },
  {
   "cell_type": "code",
   "execution_count": null,
   "id": "18fb8866",
   "metadata": {},
   "outputs": [],
   "source": [
    "data[\"capital-loss\"].describe()"
   ]
  },
  {
   "cell_type": "markdown",
   "id": "8eb472a6",
   "metadata": {},
   "source": [
    "### Preprocessing"
   ]
  },
  {
   "cell_type": "markdown",
   "id": "a82d5c3a",
   "metadata": {},
   "source": [
    "1. Replace nan with ? to represent unknown category or drop all missing and ? values\n",
    "2. Preprocess income to be a binary value\n",
    "3. Drop education column since education-num encodes that"
   ]
  },
  {
   "cell_type": "code",
   "execution_count": null,
   "id": "18dae7f5",
   "metadata": {},
   "outputs": [],
   "source": [
    "# Encodes if you made over 50k as 1 and under 50k as 0\n",
    "data = data.assign(income = data[\"income\"].str.split(\".\").str[0].apply(lambda x: 1 if x[0] == \"<\" else 0))"
   ]
  }
 ],
 "metadata": {
  "kernelspec": {
   "display_name": "Python 3 (ipykernel)",
   "language": "python",
   "name": "python3"
  },
  "language_info": {
   "codemirror_mode": {
    "name": "ipython",
    "version": 3
   },
   "file_extension": ".py",
   "mimetype": "text/x-python",
   "name": "python",
   "nbconvert_exporter": "python",
   "pygments_lexer": "ipython3",
   "version": "3.10.9"
  }
 },
 "nbformat": 4,
 "nbformat_minor": 5
}
